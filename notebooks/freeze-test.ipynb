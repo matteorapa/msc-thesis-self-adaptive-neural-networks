{
 "cells": [
  {
   "cell_type": "code",
   "execution_count": 29,
   "metadata": {},
   "outputs": [],
   "source": [
    "import torch\n",
    "from torchvision.models import resnet18, resnet50\n",
    "import torch_pruning as tp\n",
    "from torch.optim.lr_scheduler import StepLR\n",
    "from torchinfo import summary\n",
    "import os\n",
    "import copy\n",
    "\n",
    "model = resnet18(pretrained=True)\n",
    "model.train()\n",
    "\n",
    "optimizer = torch.optim.SGD(model.parameters(), 0.1,\n",
    "                            momentum=0.9,\n",
    "                            weight_decay=0.0001)\n",
    "\n",
    "scheduler = StepLR(optimizer, step_size=30, gamma=0.1)\n",
    "\n",
    "optimizer.zero_grad()"
   ]
  },
  {
   "cell_type": "code",
   "execution_count": 33,
   "metadata": {},
   "outputs": [
    {
     "ename": "AttributeError",
     "evalue": "'list' object has no attribute 'grad'",
     "output_type": "error",
     "traceback": [
      "\u001b[1;31m---------------------------------------------------------------------------\u001b[0m",
      "\u001b[1;31mAttributeError\u001b[0m                            Traceback (most recent call last)",
      "\u001b[1;32mc:\\Users\\35679\\Documents\\GitHub\\msc-thesis-self-adaptive-neural-networks\\notebooks\\freeze-test.ipynb Cell 2\u001b[0m in \u001b[0;36m1\n\u001b[1;32m----> <a href='vscode-notebook-cell:/c%3A/Users/35679/Documents/GitHub/msc-thesis-self-adaptive-neural-networks/notebooks/freeze-test.ipynb#W3sZmlsZQ%3D%3D?line=0'>1</a>\u001b[0m optimizer\u001b[39m.\u001b[39;49mparam_groups[\u001b[39m0\u001b[39;49m][\u001b[39m'\u001b[39;49m\u001b[39mparams\u001b[39;49m\u001b[39m'\u001b[39;49m]\u001b[39m.\u001b[39;49mgrad\n",
      "\u001b[1;31mAttributeError\u001b[0m: 'list' object has no attribute 'grad'"
     ]
    }
   ],
   "source": [
    "optimizer.param_groups[0]['params']"
   ]
  },
  {
   "cell_type": "code",
   "execution_count": 26,
   "metadata": {},
   "outputs": [
    {
     "ename": "TypeError",
     "evalue": "zeros_like(): argument 'input' (position 1) must be Tensor, not NoneType",
     "output_type": "error",
     "traceback": [
      "\u001b[1;31m---------------------------------------------------------------------------\u001b[0m",
      "\u001b[1;31mTypeError\u001b[0m                                 Traceback (most recent call last)",
      "\u001b[1;32mc:\\Users\\35679\\Documents\\GitHub\\msc-thesis-self-adaptive-neural-networks\\notebooks\\freeze-test.ipynb Cell 2\u001b[0m in \u001b[0;36m4\n\u001b[0;32m      <a href='vscode-notebook-cell:/c%3A/Users/35679/Documents/GitHub/msc-thesis-self-adaptive-neural-networks/notebooks/freeze-test.ipynb#W2sZmlsZQ%3D%3D?line=0'>1</a>\u001b[0m \u001b[39mfor\u001b[39;00m i, param \u001b[39min\u001b[39;00m \u001b[39menumerate\u001b[39m(optimizer\u001b[39m.\u001b[39mparam_groups[\u001b[39m0\u001b[39m][\u001b[39m'\u001b[39m\u001b[39mparams\u001b[39m\u001b[39m'\u001b[39m]):\n\u001b[1;32m----> <a href='vscode-notebook-cell:/c%3A/Users/35679/Documents/GitHub/msc-thesis-self-adaptive-neural-networks/notebooks/freeze-test.ipynb#W2sZmlsZQ%3D%3D?line=3'>4</a>\u001b[0m     param\u001b[39m.\u001b[39mgrad \u001b[39m=\u001b[39m torch\u001b[39m.\u001b[39;49mzeros_like(param\u001b[39m.\u001b[39;49mgrad)\n",
      "\u001b[1;31mTypeError\u001b[0m: zeros_like(): argument 'input' (position 1) must be Tensor, not NoneType"
     ]
    }
   ],
   "source": [
    "for i, param in enumerate(optimizer.param_groups[0]['params']):\n",
    "    \n",
    "\n",
    "    param.grad = torch.zeros_like(param.grad)"
   ]
  },
  {
   "cell_type": "code",
   "execution_count": null,
   "metadata": {},
   "outputs": [],
   "source": [
    "\n",
    "layers = []\n",
    "terms = ['conv', 'bn', 'relu', 'maxpool', 'avgpool', 'fc', 'downsample']\n",
    "correct_layers = []\n",
    "found = False\n",
    "\n",
    "for idx, layer in enumerate(dict(model.named_modules()).keys()):\n",
    "    layers.append(layer)\n",
    "\n",
    "for l in layers:\n",
    "    found = False\n",
    "    for t in terms:\n",
    "        if found == False:\n",
    "            if(t in l):\n",
    "                correct_layers.append(l)\n",
    "                found = True\n",
    "                print(t, l)\n",
    "                continue\n",
    "            \n",
    "\n",
    "len(correct_layers)"
   ]
  }
 ],
 "metadata": {
  "kernelspec": {
   "display_name": "base",
   "language": "python",
   "name": "python3"
  },
  "language_info": {
   "codemirror_mode": {
    "name": "ipython",
    "version": 3
   },
   "file_extension": ".py",
   "mimetype": "text/x-python",
   "name": "python",
   "nbconvert_exporter": "python",
   "pygments_lexer": "ipython3",
   "version": "3.9.13"
  },
  "orig_nbformat": 4
 },
 "nbformat": 4,
 "nbformat_minor": 2
}
